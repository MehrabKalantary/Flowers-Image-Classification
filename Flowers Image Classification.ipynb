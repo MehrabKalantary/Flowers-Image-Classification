{
 "cells": [
  {
   "cell_type": "markdown",
   "id": "edcb8b6b",
   "metadata": {
    "id": "edcb8b6b",
    "pycharm": {
     "name": "#%% md\n"
    }
   },
   "source": [
    "# Flowers Image Classification\n",
    "In this notebook we process flowers images and build a classifier for 17 classes\n",
    "\n",
    "[Dataset](https://www.robots.ox.ac.uk/~vgg/data/flowers/17/)\n",
    "\n",
    "## Contents\n",
    "* Data understanding\n",
    "* Feature extraction\n",
    "* Data preprocessing\n",
    "* Modeling\n",
    "* Evaluation"
   ]
  },
  {
   "cell_type": "code",
   "execution_count": 3,
   "id": "2967e7a1",
   "metadata": {
    "id": "2967e7a1",
    "pycharm": {
     "name": "#%%\n"
    }
   },
   "outputs": [],
   "source": [
    "from sklearn.preprocessing import LabelEncoder, MinMaxScaler\n",
    "from sklearn.model_selection import train_test_split\n",
    "from sklearn.ensemble import RandomForestClassifier\n",
    "from sklearn.metrics import classification_report\n",
    "from matplotlib import pyplot as plt\n",
    "from pycaret import classification\n",
    "import numpy as np\n",
    "import pandas as pd\n",
    "import cv2\n",
    "import os\n",
    "import h5py\n",
    "import mahotas\n",
    "import glob\n",
    "import pickle"
   ]
  },
  {
   "cell_type": "markdown",
   "id": "67dada6d",
   "metadata": {
    "id": "67dada6d",
    "pycharm": {
     "name": "#%% md\n"
    }
   },
   "source": [
    "We can download the dataset from [this link](https://www.robots.ox.ac.uk/~vgg/data/flowers/17/17flowers.tgz)"
   ]
  },
  {
   "cell_type": "code",
   "execution_count": 4,
   "id": "72136ffd",
   "metadata": {
    "id": "72136ffd",
    "pycharm": {
     "name": "#%%\n"
    }
   },
   "outputs": [],
   "source": [
    "image_paths = sorted(glob.glob('jpg/*.jpg'))\n",
    "image_paths = [x.replace('\\\\', '/') for x in image_paths]"
   ]
  },
  {
   "cell_type": "markdown",
   "id": "6a41bec1",
   "metadata": {
    "id": "6a41bec1",
    "pycharm": {
     "name": "#%% md\n"
    }
   },
   "source": [
    "### Data Understanding"
   ]
  },
  {
   "cell_type": "code",
   "execution_count": 5,
   "id": "7457b3f7",
   "metadata": {
    "colab": {
     "base_uri": "https://localhost:8080/"
    },
    "id": "7457b3f7",
    "outputId": "57835f9b-d202-4400-aabc-3555cf56ade3",
    "pycharm": {
     "name": "#%%\n"
    }
   },
   "outputs": [
    {
     "data": {
      "text/plain": [
       "1360"
      ]
     },
     "execution_count": 5,
     "metadata": {},
     "output_type": "execute_result"
    }
   ],
   "source": [
    "len(image_paths)"
   ]
  },
  {
   "cell_type": "markdown",
   "id": "b1f61b0c",
   "metadata": {
    "id": "b1f61b0c",
    "pycharm": {
     "name": "#%% md\n"
    }
   },
   "source": [
    "There are 1360 images divivded into 17 classes. So each class has 80 images"
   ]
  },
  {
   "cell_type": "code",
   "execution_count": null,
   "id": "5327e736",
   "metadata": {
    "id": "5327e736",
    "outputId": "3c103893-c003-4f9f-a691-60b1bfd8f993",
    "pycharm": {
     "name": "#%%\n"
    }
   },
   "outputs": [
    {
     "data": {
      "text/plain": [
       "['jpg/image_0001.jpg', 'jpg/image_0002.jpg', 'jpg/image_0003.jpg']"
      ]
     },
     "execution_count": 8,
     "metadata": {},
     "output_type": "execute_result"
    }
   ],
   "source": [
    "image_paths[:3]"
   ]
  },
  {
   "cell_type": "markdown",
   "id": "4a22c01d",
   "metadata": {
    "id": "4a22c01d",
    "pycharm": {
     "name": "#%% md\n"
    }
   },
   "source": [
    "Here we create a list of classes"
   ]
  },
  {
   "cell_type": "code",
   "execution_count": null,
   "id": "70d7c604",
   "metadata": {
    "id": "70d7c604",
    "pycharm": {
     "name": "#%%\n"
    }
   },
   "outputs": [],
   "source": [
    "class_names = [\n",
    "    'Buttercup', 'ColtsFoot', 'Daffodil', 'Daisy', 'Dandelion', 'Fritillary', 'Iris', 'Pansy', 'Sunflower', 'Windflower',\n",
    "    'Snowdrop', 'LilyValley', 'Bluebell', 'Crocus', 'Tigerlily', 'Tulip', 'Cowslip'\n",
    "]"
   ]
  },
  {
   "cell_type": "markdown",
   "id": "7e4bb544",
   "metadata": {
    "id": "7e4bb544",
    "pycharm": {
     "name": "#%% md\n"
    }
   },
   "source": [
    "We create 17 folders and each folder includes 80 images"
   ]
  },
  {
   "cell_type": "code",
   "execution_count": null,
   "id": "7c23f9de",
   "metadata": {
    "id": "7c23f9de",
    "pycharm": {
     "name": "#%%\n"
    }
   },
   "outputs": [],
   "source": [
    "l = 0\n",
    "i = 0\n",
    "j = 80\n",
    "for k in range(1, 18):\n",
    "    os.makedirs('data/' + class_names[l])\n",
    "    current_path = 'data/' + class_names[l] + '/'\n",
    "    for index, image_path in enumerate(image_paths[i:j], start=1):\n",
    "        original = image_path\n",
    "        image_path = image_path.split('/')\n",
    "        image_file_name = str(index) + '.jpg'\n",
    "        os.rename(original, current_path + image_file_name)\n",
    "    l += 1\n",
    "    i += 80\n",
    "    j += 80"
   ]
  },
  {
   "cell_type": "markdown",
   "id": "dfbd4374",
   "metadata": {
    "id": "dfbd4374",
    "pycharm": {
     "name": "#%% md\n"
    }
   },
   "source": [
    "\n",
    "### Feature Extraction Methods\n",
    "* Image histogram\n",
    "* Hu moments\n",
    "* Haralick"
   ]
  },
  {
   "cell_type": "markdown",
   "id": "19aaa6ed",
   "metadata": {
    "id": "19aaa6ed",
    "pycharm": {
     "name": "#%% md\n"
    }
   },
   "source": [
    "Let's take one image from data"
   ]
  },
  {
   "cell_type": "code",
   "execution_count": 11,
   "id": "f601da4a",
   "metadata": {
    "id": "f601da4a",
    "pycharm": {
     "name": "#%%\n"
    }
   },
   "outputs": [],
   "source": [
    "img = cv2.imread('drive/MyDrive/data/Daisy/1.jpg')"
   ]
  },
  {
   "cell_type": "code",
   "execution_count": 12,
   "id": "0895c395",
   "metadata": {
    "colab": {
     "base_uri": "https://localhost:8080/"
    },
    "id": "0895c395",
    "outputId": "6cec41f8-f77b-4212-9a0c-1622fd8d3f7c",
    "pycharm": {
     "name": "#%%\n"
    }
   },
   "outputs": [
    {
     "data": {
      "text/plain": [
       "(499, 635, 3)"
      ]
     },
     "execution_count": 12,
     "metadata": {},
     "output_type": "execute_result"
    }
   ],
   "source": [
    "img.shape"
   ]
  },
  {
   "cell_type": "markdown",
   "id": "946522a2",
   "metadata": {
    "id": "946522a2",
    "pycharm": {
     "name": "#%% md\n"
    }
   },
   "source": [
    "Images have 3 BGR channels"
   ]
  },
  {
   "cell_type": "markdown",
   "id": "7e4fe54e",
   "metadata": {
    "id": "7e4fe54e",
    "pycharm": {
     "name": "#%% md\n"
    }
   },
   "source": [
    "#### Image Histogram Method"
   ]
  },
  {
   "cell_type": "code",
   "execution_count": null,
   "id": "549bd6bd",
   "metadata": {
    "id": "549bd6bd",
    "outputId": "b8047f3b-125c-4d23-b552-4943926972db",
    "pycharm": {
     "name": "#%%\n"
    }
   },
   "outputs": [
    {
     "data": {
      "image/png": "[encoded data removed]",
      "text/plain": [
       "<Figure size 432x288 with 1 Axes>"
      ]
     },
     "metadata": {
      "needs_background": "light"
     },
     "output_type": "display_data"
    }
   ],
   "source": [
    "for channel, col in enumerate(('b', 'g', 'r')):\n",
    "        hist = cv2.calcHist([img], [channel], None, [256], [0, 256])\n",
    "        plt.title('Image Histogram for BGR Channels')\n",
    "        plt.plot(hist, color=col)"
   ]
  },
  {
   "cell_type": "markdown",
   "id": "ac1c991a",
   "metadata": {
    "id": "ac1c991a",
    "pycharm": {
     "name": "#%% md\n"
    }
   },
   "source": [
    "#### Hu Moments Method"
   ]
  },
  {
   "cell_type": "code",
   "execution_count": 13,
   "id": "1eadc133",
   "metadata": {
    "id": "1eadc133",
    "pycharm": {
     "name": "#%%\n"
    }
   },
   "outputs": [],
   "source": [
    "gray_img = cv2.cvtColor(img, cv2.COLOR_BGR2GRAY)\n",
    "hue_features = cv2.HuMoments(cv2.moments(gray_img)).flatten()"
   ]
  },
  {
   "cell_type": "code",
   "execution_count": 14,
   "id": "32c518da",
   "metadata": {
    "colab": {
     "base_uri": "https://localhost:8080/"
    },
    "id": "32c518da",
    "outputId": "ac10f537-c9a3-4a1a-9f84-d123a16634c9",
    "pycharm": {
     "name": "#%%\n"
    }
   },
   "outputs": [
    {
     "data": {
      "text/plain": [
       "array([1.38546434e-03, 2.20259478e-07, 7.96571382e-12, 1.48445988e-12,\n",
       "       2.32432093e-24, 4.20314992e-17, 4.54476324e-24])"
      ]
     },
     "execution_count": 14,
     "metadata": {},
     "output_type": "execute_result"
    }
   ],
   "source": [
    "hue_features"
   ]
  },
  {
   "cell_type": "markdown",
   "id": "ac7865d2",
   "metadata": {
    "id": "ac7865d2",
    "pycharm": {
     "name": "#%% md\n"
    }
   },
   "source": [
    "7 feature extracted"
   ]
  },
  {
   "cell_type": "markdown",
   "id": "dee42507",
   "metadata": {
    "id": "dee42507",
    "pycharm": {
     "name": "#%% md\n"
    }
   },
   "source": [
    "#### Haralick Method"
   ]
  },
  {
   "cell_type": "code",
   "execution_count": 15,
   "id": "2258da81",
   "metadata": {
    "colab": {
     "base_uri": "https://localhost:8080/"
    },
    "id": "2258da81",
    "outputId": "4ee58be6-89f3-4f30-e03d-6a4f250c8750",
    "pycharm": {
     "name": "#%%\n"
    }
   },
   "outputs": [
    {
     "data": {
      "text/plain": [
       "array([ 7.53021267e-04,  2.79362122e+01,  9.93432844e-01,  2.12680014e+03,\n",
       "        4.19529078e-01,  2.44046016e+02,  8.47926434e+03,  8.47576958e+00,\n",
       "        1.11466814e+01,  7.05985453e-04,  2.95734057e+00, -5.10389599e-01,\n",
       "        9.99726600e-01])"
      ]
     },
     "execution_count": 15,
     "metadata": {},
     "output_type": "execute_result"
    }
   ],
   "source": [
    "haralick_features = mahotas.features.haralick(gray_img)\n",
    "haralick_features.mean(axis=0)"
   ]
  },
  {
   "cell_type": "markdown",
   "id": "053d24df",
   "metadata": {
    "id": "053d24df",
    "pycharm": {
     "name": "#%% md\n"
    }
   },
   "source": [
    "13 features extracted"
   ]
  },
  {
   "cell_type": "markdown",
   "id": "9b283be9",
   "metadata": {
    "id": "9b283be9",
    "pycharm": {
     "name": "#%% md\n"
    }
   },
   "source": [
    "Now we apply these 3 methods to each image and crearte X and y"
   ]
  },
  {
   "cell_type": "code",
   "execution_count": 2,
   "id": "4a0d135e",
   "metadata": {
    "colab": {
     "base_uri": "https://localhost:8080/"
    },
    "id": "4a0d135e",
    "outputId": "8cc306b8-9ec1-4140-e735-d42b76798305",
    "pycharm": {
     "name": "#%%\n"
    }
   },
   "outputs": [
    {
     "data": {
      "text/plain": [
       "['Bluebell',\n",
       " 'Buttercup',\n",
       " 'ColtsFoot',\n",
       " 'Cowslip',\n",
       " 'Crocus',\n",
       " 'Daffodil',\n",
       " 'Daisy',\n",
       " 'Dandelion',\n",
       " 'Fritillary',\n",
       " 'Iris',\n",
       " 'LilyValley',\n",
       " 'Pansy',\n",
       " 'Snowdrop',\n",
       " 'Sunflower',\n",
       " 'Tigerlily',\n",
       " 'Tulip',\n",
       " 'Windflower']"
      ]
     },
     "execution_count": 2,
     "metadata": {},
     "output_type": "execute_result"
    }
   ],
   "source": [
    "train_labels = os.listdir('drive/MyDrive/data/')\n",
    "train_labels.sort()\n",
    "train_labels"
   ]
  },
  {
   "cell_type": "code",
   "execution_count": null,
   "id": "3789608e",
   "metadata": {
    "id": "3789608e",
    "pycharm": {
     "name": "#%%\n"
    }
   },
   "outputs": [],
   "source": [
    "X = []\n",
    "y = []\n",
    "for label in train_labels:\n",
    "    dir = os.path.join('drive/MyDrive/data', label).replace('\\\\', '/')\n",
    "    current_label = label\n",
    "    print('Current Folder: ' + current_label)\n",
    "    for x in range(1, 81):\n",
    "        print('Current Image: ' + str(x))\n",
    "        file = os.path.join(dir, str(x) + '.jpg').replace('\\\\', '/')\n",
    "        image = cv2.imread(file)\n",
    "        image = cv2.resize(image, (500, 500))\n",
    "        image_hsv = cv2.cvtColor(image, cv2.COLOR_BGR2HSV)\n",
    "        hist = cv2.calcHist([image], [0, 1, 2], None, [8, 8, 8], [0, 256, 0, 256, 0, 256])\n",
    "        cv2.normalize(hist, hist)\n",
    "        histogram_features = hist.flatten()\n",
    "        image_gray = cv2.cvtColor(image, cv2.COLOR_BGR2GRAY)\n",
    "        hue_features = cv2.HuMoments(cv2.moments(image_gray)).flatten()\n",
    "        haralick_features = mahotas.features.haralick(image_gray).mean(axis=0)\n",
    "        current_features = np.hstack([histogram_features, hue_features, haralick_features])\n",
    "        X.append(current_features)\n",
    "        y.append(current_label)"
   ]
  },
  {
   "cell_type": "code",
   "execution_count": 4,
   "id": "13714373",
   "metadata": {
    "colab": {
     "base_uri": "https://localhost:8080/"
    },
    "id": "13714373",
    "outputId": "85480fbc-73b4-400b-f3ab-045efd0e40b5",
    "pycharm": {
     "name": "#%%\n"
    }
   },
   "outputs": [
    {
     "data": {
      "text/plain": [
       "(1360, 532)"
      ]
     },
     "execution_count": 4,
     "metadata": {},
     "output_type": "execute_result"
    }
   ],
   "source": [
    "np.shape(X)"
   ]
  },
  {
   "cell_type": "code",
   "execution_count": 5,
   "id": "rB1EPtZSpZkI",
   "metadata": {
    "colab": {
     "base_uri": "https://localhost:8080/"
    },
    "id": "rB1EPtZSpZkI",
    "outputId": "38b7e1d5-e680-4220-d5eb-45c2d6e29102",
    "pycharm": {
     "name": "#%%\n"
    }
   },
   "outputs": [
    {
     "data": {
      "text/plain": [
       "(1360,)"
      ]
     },
     "execution_count": 5,
     "metadata": {},
     "output_type": "execute_result"
    }
   ],
   "source": [
    "np.shape(y)"
   ]
  },
  {
   "cell_type": "markdown",
   "id": "df9eb077",
   "metadata": {
    "id": "7FiUqBtGpaZx",
    "pycharm": {
     "name": "#%% md\n"
    }
   },
   "source": [
    "### Data Preprocessing\n",
    "* Label Encoding\n",
    "* Scaling"
   ]
  },
  {
   "cell_type": "code",
   "execution_count": 7,
   "id": "BZj9yTsPpep3",
   "metadata": {
    "id": "BZj9yTsPpep3",
    "pycharm": {
     "name": "#%%\n"
    }
   },
   "outputs": [],
   "source": [
    "le = LabelEncoder()\n",
    "y = le.fit_transform(y)"
   ]
  },
  {
   "cell_type": "code",
   "execution_count": 8,
   "id": "dgKhPGSEpfds",
   "metadata": {
    "id": "dgKhPGSEpfds",
    "pycharm": {
     "name": "#%%\n"
    }
   },
   "outputs": [],
   "source": [
    "mms = MinMaxScaler()\n",
    "X = mms.fit_transform(X)"
   ]
  },
  {
   "cell_type": "code",
   "execution_count": 10,
   "id": "hJVQ0Sblphvo",
   "metadata": {
    "id": "hJVQ0Sblphvo",
    "pycharm": {
     "name": "#%%\n"
    }
   },
   "outputs": [],
   "source": [
    "X_train, X_test, y_train, y_test = train_test_split(X, y, random_state=100)"
   ]
  },
  {
   "cell_type": "markdown",
   "id": "23e4c741",
   "metadata": {
    "id": "T1U5Ry-Lp5nY",
    "pycharm": {
     "name": "#%% md\n"
    }
   },
   "source": [
    "\n",
    "### Modeling\n",
    "Here we use RandomForestClassifier"
   ]
  },
  {
   "cell_type": "code",
   "execution_count": 41,
   "id": "mX0SPj2lrIkg",
   "metadata": {
    "colab": {
     "base_uri": "https://localhost:8080/",
     "height": 178
    },
    "id": "mX0SPj2lrIkg",
    "outputId": "78eabc73-5b27-44a4-944a-dcaddd619328",
    "pycharm": {
     "name": "#%%\n"
    }
   },
   "outputs": [
    {
     "data": {
      "text/html": [
       "<style>#sk-container-id-6 {color: black;background-color: white;}#sk-container-id-6 pre{padding: 0;}#sk-container-id-6 div.sk-toggleable {background-color: white;}#sk-container-id-6 label.sk-toggleable__label {cursor: pointer;display: block;width: 100%;margin-bottom: 0;padding: 0.3em;box-sizing: border-box;text-align: center;}#sk-container-id-6 label.sk-toggleable__label-arrow:before {content: \"▸\";float: left;margin-right: 0.25em;color: #696969;}#sk-container-id-6 label.sk-toggleable__label-arrow:hover:before {color: black;}#sk-container-id-6 div.sk-estimator:hover label.sk-toggleable__label-arrow:before {color: black;}#sk-container-id-6 div.sk-toggleable__content {max-height: 0;max-width: 0;overflow: hidden;text-align: left;background-color: #f0f8ff;}#sk-container-id-6 div.sk-toggleable__content pre {margin: 0.2em;color: black;border-radius: 0.25em;background-color: #f0f8ff;}#sk-container-id-6 input.sk-toggleable__control:checked~div.sk-toggleable__content {max-height: 200px;max-width: 100%;overflow: auto;}#sk-container-id-6 input.sk-toggleable__control:checked~label.sk-toggleable__label-arrow:before {content: \"▾\";}#sk-container-id-6 div.sk-estimator input.sk-toggleable__control:checked~label.sk-toggleable__label {background-color: #d4ebff;}#sk-container-id-6 div.sk-label input.sk-toggleable__control:checked~label.sk-toggleable__label {background-color: #d4ebff;}#sk-container-id-6 input.sk-hidden--visually {border: 0;clip: rect(1px 1px 1px 1px);clip: rect(1px, 1px, 1px, 1px);height: 1px;margin: -1px;overflow: hidden;padding: 0;position: absolute;width: 1px;}#sk-container-id-6 div.sk-estimator {font-family: monospace;background-color: #f0f8ff;border: 1px dotted black;border-radius: 0.25em;box-sizing: border-box;margin-bottom: 0.5em;}#sk-container-id-6 div.sk-estimator:hover {background-color: #d4ebff;}#sk-container-id-6 div.sk-parallel-item::after {content: \"\";width: 100%;border-bottom: 1px solid gray;flex-grow: 1;}#sk-container-id-6 div.sk-label:hover label.sk-toggleable__label {background-color: #d4ebff;}#sk-container-id-6 div.sk-serial::before {content: \"\";position: absolute;border-left: 1px solid gray;box-sizing: border-box;top: 0;bottom: 0;left: 50%;z-index: 0;}#sk-container-id-6 div.sk-serial {display: flex;flex-direction: column;align-items: center;background-color: white;padding-right: 0.2em;padding-left: 0.2em;position: relative;}#sk-container-id-6 div.sk-item {position: relative;z-index: 1;}#sk-container-id-6 div.sk-parallel {display: flex;align-items: stretch;justify-content: center;background-color: white;position: relative;}#sk-container-id-6 div.sk-item::before, #sk-container-id-6 div.sk-parallel-item::before {content: \"\";position: absolute;border-left: 1px solid gray;box-sizing: border-box;top: 0;bottom: 0;left: 50%;z-index: -1;}#sk-container-id-6 div.sk-parallel-item {display: flex;flex-direction: column;z-index: 1;position: relative;background-color: white;}#sk-container-id-6 div.sk-parallel-item:first-child::after {align-self: flex-end;width: 50%;}#sk-container-id-6 div.sk-parallel-item:last-child::after {align-self: flex-start;width: 50%;}#sk-container-id-6 div.sk-parallel-item:only-child::after {width: 0;}#sk-container-id-6 div.sk-dashed-wrapped {border: 1px dashed gray;margin: 0 0.4em 0.5em 0.4em;box-sizing: border-box;padding-bottom: 0.4em;background-color: white;}#sk-container-id-6 div.sk-label label {font-family: monospace;font-weight: bold;display: inline-block;line-height: 1.2em;}#sk-container-id-6 div.sk-label-container {text-align: center;}#sk-container-id-6 div.sk-container {/* jupyter's `normalize.less` sets `[hidden] { display: none; }` but bootstrap.min.css set `[hidden] { display: none !important; }` so we also need the `!important` here to be able to override the default hidden behavior on the sphinx rendered scikit-learn.org. See: https://github.com/scikit-learn/scikit-learn/issues/21755 */display: inline-block !important;position: relative;}#sk-container-id-6 div.sk-text-repr-fallback {display: none;}</style><div id=\"sk-container-id-6\" class=\"sk-top-container\"><div class=\"sk-text-repr-fallback\"><pre>RandomForestClassifier(bootstrap=True, ccp_alpha=0.0, class_weight=None,\n",
       "                       criterion=&#x27;gini&#x27;, max_depth=None, max_features=&#x27;sqrt&#x27;,\n",
       "                       max_leaf_nodes=None, max_samples=None,\n",
       "                       min_impurity_decrease=0.0, min_samples_leaf=1,\n",
       "                       min_samples_split=2, min_weight_fraction_leaf=0.0,\n",
       "                       n_estimators=300, n_jobs=None, oob_score=False,\n",
       "                       random_state=14, verbose=0, warm_start=False)</pre><b>In a Jupyter environment, please rerun this cell to show the HTML representation or trust the notebook. <br />On GitHub, the HTML representation is unable to render, please try loading this page with nbviewer.org.</b></div><div class=\"sk-container\" hidden><div class=\"sk-item\"><div class=\"sk-estimator sk-toggleable\"><input class=\"sk-toggleable__control sk-hidden--visually\" id=\"sk-estimator-id-6\" type=\"checkbox\" checked><label for=\"sk-estimator-id-6\" class=\"sk-toggleable__label sk-toggleable__label-arrow\">RandomForestClassifier</label><div class=\"sk-toggleable__content\"><pre>RandomForestClassifier(bootstrap=True, ccp_alpha=0.0, class_weight=None,\n",
       "                       criterion=&#x27;gini&#x27;, max_depth=None, max_features=&#x27;sqrt&#x27;,\n",
       "                       max_leaf_nodes=None, max_samples=None,\n",
       "                       min_impurity_decrease=0.0, min_samples_leaf=1,\n",
       "                       min_samples_split=2, min_weight_fraction_leaf=0.0,\n",
       "                       n_estimators=300, n_jobs=None, oob_score=False,\n",
       "                       random_state=14, verbose=0, warm_start=False)</pre></div></div></div></div></div>"
      ],
      "text/plain": [
       "RandomForestClassifier(bootstrap=True, ccp_alpha=0.0, class_weight=None,\n",
       "                       criterion='gini', max_depth=None, max_features='sqrt',\n",
       "                       max_leaf_nodes=None, max_samples=None,\n",
       "                       min_impurity_decrease=0.0, min_samples_leaf=1,\n",
       "                       min_samples_split=2, min_weight_fraction_leaf=0.0,\n",
       "                       n_estimators=300, n_jobs=None, oob_score=False,\n",
       "                       random_state=14, verbose=0, warm_start=False)"
      ]
     },
     "execution_count": 41,
     "metadata": {},
     "output_type": "execute_result"
    }
   ],
   "source": [
    "rfc = RandomForestClassifier(n_estimators=300, random_state=14)\n",
    "rfc.fit(X_train, y_train)"
   ]
  },
  {
   "cell_type": "markdown",
   "id": "f7541c8e",
   "metadata": {
    "pycharm": {
     "name": "#%% md\n"
    }
   },
   "source": [
    "### Evaluation"
   ]
  },
  {
   "cell_type": "code",
   "execution_count": 42,
   "id": "P_uO4HhcstCZ",
   "metadata": {
    "id": "P_uO4HhcstCZ",
    "pycharm": {
     "name": "#%%\n"
    }
   },
   "outputs": [],
   "source": [
    "y_pred = rfc.predict(X_test)"
   ]
  },
  {
   "cell_type": "code",
   "execution_count": 43,
   "id": "vIfUPeOys7UL",
   "metadata": {
    "colab": {
     "base_uri": "https://localhost:8080/"
    },
    "id": "vIfUPeOys7UL",
    "outputId": "a5b73c49-22ce-419d-8d69-b806f811e3d3",
    "pycharm": {
     "name": "#%%\n"
    }
   },
   "outputs": [
    {
     "name": "stdout",
     "output_type": "stream",
     "text": [
      "              precision    recall  f1-score   support\n",
      "\n",
      "           0       0.56      0.56      0.56        18\n",
      "           1       0.77      0.53      0.62        19\n",
      "           2       0.71      0.85      0.77        26\n",
      "           3       0.80      0.73      0.76        22\n",
      "           4       0.58      0.65      0.61        23\n",
      "           5       0.54      0.47      0.50        15\n",
      "           6       0.81      0.84      0.82        25\n",
      "           7       0.80      0.62      0.70        26\n",
      "           8       0.90      0.39      0.55        23\n",
      "           9       0.80      1.00      0.89        12\n",
      "          10       0.67      0.67      0.67        24\n",
      "          11       0.67      0.45      0.54        22\n",
      "          12       0.71      0.94      0.81        18\n",
      "          13       0.83      0.94      0.88        16\n",
      "          14       0.35      0.64      0.45        11\n",
      "          15       0.59      0.73      0.65        22\n",
      "          16       0.75      0.83      0.79        18\n",
      "\n",
      "    accuracy                           0.69       340\n",
      "   macro avg       0.70      0.70      0.68       340\n",
      "weighted avg       0.71      0.69      0.68       340\n",
      "\n"
     ]
    }
   ],
   "source": [
    "print(classification_report(y_pred=y_pred, y_true=y_test))"
   ]
  },
  {
   "cell_type": "code",
   "execution_count": null,
   "id": "i-z3nPN2s9C2",
   "metadata": {
    "id": "i-z3nPN2s9C2",
    "pycharm": {
     "name": "#%%\n"
    }
   },
   "outputs": [],
   "source": []
  }
 ],
 "metadata": {
  "colab": {
   "provenance": []
  },
  "kernelspec": {
   "display_name": "Python 3 (ipykernel)",
   "language": "python",
   "name": "python3"
  },
  "language_info": {
   "codemirror_mode": {
    "name": "ipython",
    "version": 3
   },
   "file_extension": ".py",
   "mimetype": "text/x-python",
   "name": "python",
   "nbconvert_exporter": "python",
   "pygments_lexer": "ipython3",
   "version": "3.9.12"
  }
 },
 "nbformat": 4,
 "nbformat_minor": 5
}